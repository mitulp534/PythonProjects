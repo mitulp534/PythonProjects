{
  "nbformat": 4,
  "nbformat_minor": 0,
  "metadata": {
    "colab": {
      "name": "corePython1.ipynb",
      "version": "0.3.2",
      "provenance": [],
      "collapsed_sections": []
    },
    "kernelspec": {
      "name": "python3",
      "display_name": "Python 3"
    }
  },
  "cells": [
    {
      "cell_type": "code",
      "metadata": {
        "id": "PWnML9MJZxPk",
        "colab_type": "code",
        "outputId": "565e7c55-113f-46a2-c4e6-01b3741b22b9",
        "colab": {
          "base_uri": "https://localhost:8080/",
          "height": 68
        }
      },
      "source": [
        "#make a varaiable\n",
        "data =100\n",
        "print(data)\n",
        "data=\"Hello Mike\"\n",
        "print(data)\n",
        "#formate used to get type of a perticular thing\n",
        "a=3.14j\n",
        "print('Type of a is{} '.format(type(a)))"
      ],
      "execution_count": 0,
      "outputs": [
        {
          "output_type": "stream",
          "text": [
            "100\n",
            "Hello Mike\n",
            "Type of a is<class 'complex'> \n"
          ],
          "name": "stdout"
        }
      ]
    },
    {
      "cell_type": "code",
      "metadata": {
        "id": "rjU4WeGIpLfk",
        "colab_type": "code",
        "outputId": "5ae30af9-7010-4865-d6b3-12d9ff1088a5",
        "colab": {
          "base_uri": "https://localhost:8080/",
          "height": 51
        }
      },
      "source": [
        "name='Mike'\n",
        "name1=\"Xxcept1on\"\n",
        "print(name)\n",
        "print(name1)"
      ],
      "execution_count": 0,
      "outputs": [
        {
          "output_type": "stream",
          "text": [
            "Mike\n",
            "Xxcept1on\n"
          ],
          "name": "stdout"
        }
      ]
    },
    {
      "cell_type": "code",
      "metadata": {
        "id": "WvCHol6_uvGd",
        "colab_type": "code",
        "outputId": "dd412be6-cf95-4da9-d304-a180e914ef72",
        "colab": {
          "base_uri": "https://localhost:8080/",
          "height": 34
        }
      },
      "source": [
        "# if else statement\n",
        "\n",
        "if(2>1):\n",
        "  print(\"2 is greater\")\n",
        "else:\n",
        "  print(\"1 is smaller\")"
      ],
      "execution_count": 0,
      "outputs": [
        {
          "output_type": "stream",
          "text": [
            "2 is greater\n"
          ],
          "name": "stdout"
        }
      ]
    },
    {
      "cell_type": "code",
      "metadata": {
        "id": "lCymJQNMwVww",
        "colab_type": "code",
        "outputId": "031f3268-bdd9-4d9d-c916-4631ae0b5555",
        "colab": {
          "base_uri": "https://localhost:8080/",
          "height": 51
        }
      },
      "source": [
        "#boolean statement\n",
        "bool1=(1==1 and 2==2)\n",
        "print(\"this is {}\".format(bool1))\n",
        "\n",
        "bool2=(1==1 or 2==3)\n",
        "print(\"this is {}\".format(bool2))"
      ],
      "execution_count": 0,
      "outputs": [
        {
          "output_type": "stream",
          "text": [
            "this is True\n",
            "this is True\n"
          ],
          "name": "stdout"
        }
      ]
    },
    {
      "cell_type": "code",
      "metadata": {
        "id": "Utk7-Whb7_5h",
        "colab_type": "code",
        "outputId": "a52be8ea-5ac6-4734-ad8e-6cafcd8039d7",
        "colab": {
          "base_uri": "https://localhost:8080/",
          "height": 51
        }
      },
      "source": [
        "# basic list\n",
        "listTest=[\"pubg\",\"pubg lite\",\"pubg mobile\"]\n",
        "print(listTest[0])\n",
        "print(listTest[1])"
      ],
      "execution_count": 0,
      "outputs": [
        {
          "output_type": "stream",
          "text": [
            "pubg\n",
            "pubg lite\n"
          ],
          "name": "stdout"
        }
      ]
    },
    {
      "cell_type": "code",
      "metadata": {
        "id": "AUI7mQpF8ak9",
        "colab_type": "code",
        "outputId": "2819e1bf-f8fe-4047-f64a-1e4bf49fc2f5",
        "colab": {
          "base_uri": "https://localhost:8080/",
          "height": 34
        }
      },
      "source": [
        "#list can carry more than one datatype\n",
        "generic_list=['1',[1,2,3],'hello']\n",
        "print(generic_list[1])"
      ],
      "execution_count": 0,
      "outputs": [
        {
          "output_type": "stream",
          "text": [
            "[1, 2, 3]\n"
          ],
          "name": "stdout"
        }
      ]
    },
    {
      "cell_type": "code",
      "metadata": {
        "id": "Tgc7E_He_Onz",
        "colab_type": "code",
        "outputId": "302bd72c-7568-4f1b-91f8-620b2c231a75",
        "colab": {
          "base_uri": "https://localhost:8080/",
          "height": 34
        }
      },
      "source": [
        "#list append function\n",
        "list1=[1,2,3]\n",
        "list1.append(4)\n",
        "print(list1)"
      ],
      "execution_count": 0,
      "outputs": [
        {
          "output_type": "stream",
          "text": [
            "[1, 2, 3, 4]\n"
          ],
          "name": "stdout"
        }
      ]
    },
    {
      "cell_type": "code",
      "metadata": {
        "id": "GWAyaFdP_Ynd",
        "colab_type": "code",
        "outputId": "ace2994b-7e7f-432c-fa13-e35f50486b40",
        "colab": {
          "base_uri": "https://localhost:8080/",
          "height": 34
        }
      },
      "source": [
        "# use of in \n",
        "list2=[\"hello\",\"world\"]\n",
        "y=\"hello\" in list2\n",
        "#len function used to calculate lengthprint(y)"
      ],
      "execution_count": 0,
      "outputs": [
        {
          "output_type": "stream",
          "text": [
            "True\n"
          ],
          "name": "stdout"
        }
      ]
    },
    {
      "cell_type": "code",
      "metadata": {
        "id": "8zzTZ8T6_1TF",
        "colab_type": "code",
        "outputId": "cc1a5ff6-3315-4d77-b9dd-f7ab88126321",
        "colab": {
          "base_uri": "https://localhost:8080/",
          "height": 34
        }
      },
      "source": [
        "\n",
        "list3=[1,2,3,4,5,6]\n",
        "print(len(list3))"
      ],
      "execution_count": 0,
      "outputs": [
        {
          "output_type": "stream",
          "text": [
            "6\n"
          ],
          "name": "stdout"
        }
      ]
    },
    {
      "cell_type": "code",
      "metadata": {
        "id": "ve5cVnl4AJy-",
        "colab_type": "code",
        "outputId": "d0010baa-3a70-4998-e797-897042bf6174",
        "colab": {
          "base_uri": "https://localhost:8080/",
          "height": 102
        }
      },
      "source": [
        "#max and min function used to find maximum and minimum numbers from the list\n",
        "nums=[10,30,40]\n",
        "nums.insert(1,20)\n",
        "print(nums)\n",
        "print(max(nums))\n",
        "print(min(nums))\n",
        "nums.reverse()\n",
        "print(\"The reverse of list is {}\".format(nums))\n",
        "print(nums)\n"
      ],
      "execution_count": 0,
      "outputs": [
        {
          "output_type": "stream",
          "text": [
            "[10, 20, 30, 40]\n",
            "40\n",
            "10\n",
            "The reverse of list is [40, 30, 20, 10]\n",
            "[40, 30, 20, 10]\n"
          ],
          "name": "stdout"
        }
      ]
    },
    {
      "cell_type": "code",
      "metadata": {
        "id": "QOko7b43ptDf",
        "colab_type": "code",
        "outputId": "4556c88c-c7d2-4be6-922c-e1c6433851c9",
        "colab": {
          "base_uri": "https://localhost:8080/",
          "height": 34
        }
      },
      "source": [
        "#removing specific number from the list\n",
        "nums3=[1,2,3,1,4,1,5,1]\n",
        "while 1 in nums3:\n",
        "  nums3.remove(1)\n",
        "print(nums3)"
      ],
      "execution_count": 0,
      "outputs": [
        {
          "output_type": "stream",
          "text": [
            "[2, 3, 4, 5]\n"
          ],
          "name": "stdout"
        }
      ]
    },
    {
      "cell_type": "code",
      "metadata": {
        "id": "WFK1eppxrRAJ",
        "colab_type": "code",
        "outputId": "162f0584-b099-4127-b7ef-11f2fdfda3da",
        "colab": {
          "base_uri": "https://localhost:8080/",
          "height": 51
        }
      },
      "source": [
        "#functions\n",
        "def fun1():\n",
        "  print(\"Hello World\")\n",
        "fun1()\n",
        "\n",
        "def fun2(name,nickname):\n",
        "  print(name,nickname)\n",
        "fun2(\"Mike\",\"Official\")"
      ],
      "execution_count": 0,
      "outputs": [
        {
          "output_type": "stream",
          "text": [
            "Hello World\n",
            "Mike Official\n"
          ],
          "name": "stdout"
        }
      ]
    },
    {
      "cell_type": "code",
      "metadata": {
        "id": "0bJjWvYdsL6m",
        "colab_type": "code",
        "outputId": "dc58ed8e-52f6-4eea-fd17-147f9c4dab14",
        "colab": {
          "base_uri": "https://localhost:8080/",
          "height": 170
        }
      },
      "source": [
        "# *args used to pass a variable number of argument to a function\n",
        "# The simple(*) is used to pass non keyword variable\n",
        "# The double(**) is used to pass keyworded variable\n",
        "def add_number(*args):\n",
        "  for i in args:\n",
        "    print(i)\n",
        "add_number(1,2,3,4,5,6)\n",
        "\n",
        "def add_numbers2(**args2):\n",
        "  for key in args2:\n",
        "    print(\"Keyword arg: {}: {}\".format(key,args2[key]))\n",
        "    \n",
        "add_numbers2(num1=1,num2=2,num3=3)"
      ],
      "execution_count": 0,
      "outputs": [
        {
          "output_type": "stream",
          "text": [
            "1\n",
            "2\n",
            "3\n",
            "4\n",
            "5\n",
            "6\n",
            "Keyword arg: num1: 1\n",
            "Keyword arg: num2: 2\n",
            "Keyword arg: num3: 3\n"
          ],
          "name": "stdout"
        }
      ]
    },
    {
      "cell_type": "code",
      "metadata": {
        "id": "yOxKHrXdt3cT",
        "colab_type": "code",
        "outputId": "a919e694-c83f-4435-9279-bc8290361d30",
        "colab": {
          "base_uri": "https://localhost:8080/",
          "height": 119
        }
      },
      "source": [
        "# modules can be used via import function\n",
        "import random\n",
        "for i in range(6):\n",
        "  value=random.randint(1,8)\n",
        "  print(value)"
      ],
      "execution_count": 0,
      "outputs": [
        {
          "output_type": "stream",
          "text": [
            "6\n",
            "4\n",
            "8\n",
            "5\n",
            "8\n",
            "1\n"
          ],
          "name": "stdout"
        }
      ]
    },
    {
      "cell_type": "code",
      "metadata": {
        "id": "wsdHUntGuvla",
        "colab_type": "code",
        "outputId": "70a1769d-93d3-409e-c188-c3577e49019a",
        "colab": {
          "base_uri": "https://localhost:8080/",
          "height": 34
        }
      },
      "source": [
        "#Exception Handling\n",
        "try:\n",
        "  num1=10\n",
        "  num2=0\n",
        "  result=num1/num2\n",
        "  print(\"this statement will be printed if there is no Exception\")\n",
        "except ZeroDivisionError\n",
        "  print(\"Zero Division Error\")"
      ],
      "execution_count": 0,
      "outputs": [
        {
          "output_type": "stream",
          "text": [
            "Zero Division Error\n"
          ],
          "name": "stdout"
        }
      ]
    },
    {
      "cell_type": "code",
      "metadata": {
        "id": "r6AczZCDvcIy",
        "colab_type": "code",
        "outputId": "bfb97f07-65ee-44ff-a981-7033941056e8",
        "colab": {
          "base_uri": "https://localhost:8080/",
          "height": 51
        }
      },
      "source": [
        "#multiple catch Exception\n",
        "try:\n",
        "  var=10\n",
        "  print(var+\"hello\")\n",
        "  print(var/2)\n",
        "except ZeroDivisionError:\n",
        "  print(\"Divide by Zero\")\n",
        "except (ValueError, TypeError):\n",
        "  print(\"Error Occured\")\n",
        "finally:\n",
        "  print(\"This will Always run\")"
      ],
      "execution_count": 0,
      "outputs": [
        {
          "output_type": "stream",
          "text": [
            "Error Occured\n",
            "This will Always run\n"
          ],
          "name": "stdout"
        }
      ]
    },
    {
      "cell_type": "code",
      "metadata": {
        "id": "4E3ir7-0hnG1",
        "colab_type": "code",
        "outputId": "b640d1e1-5984-4457-d101-18c2d8450b1d",
        "colab": {
          "base_uri": "https://localhost:8080/",
          "height": 102
        }
      },
      "source": [
        "x=(None==None)\n",
        "print(x)\n",
        "\n",
        "x=(None==True)\n",
        "print(x)\n",
        "\n",
        "x=(None==False)\n",
        "print(x)\n",
        "\n",
        "def afunc():\n",
        "  print(\"Hello\")\n",
        "print(afunc())"
      ],
      "execution_count": 0,
      "outputs": [
        {
          "output_type": "stream",
          "text": [
            "True\n",
            "False\n",
            "False\n",
            "Hello\n",
            "None\n"
          ],
          "name": "stdout"
        }
      ]
    },
    {
      "cell_type": "code",
      "metadata": {
        "id": "IFGK0dQYiLAP",
        "colab_type": "code",
        "outputId": "5ffd49a8-f6da-4d0d-b387-f690f02fd305",
        "colab": {
          "base_uri": "https://localhost:8080/",
          "height": 51
        }
      },
      "source": [
        "#Dictionaries\n",
        "\n",
        "SomeWords={\"Xiaomi\":\"Mi\",\"Apple\":\"premium\"}\n",
        "print(SomeWords[\"Xiaomi\"])\n",
        "\n",
        "philosphers={\"united Kingdom\":\"Bertrand Russell\",\"germany\":\"Karl Max\",\"India\":\"None\"}\n",
        "philosphers[\"India\"]=\"Arya Bhatt\"\n",
        "print(philosphers)"
      ],
      "execution_count": 0,
      "outputs": [
        {
          "output_type": "stream",
          "text": [
            "Mi\n",
            "{'united Kingdom': 'Bertrand Russell', 'germany': 'Karl Max', 'India': 'Arya Bhatt'}\n"
          ],
          "name": "stdout"
        }
      ]
    },
    {
      "cell_type": "code",
      "metadata": {
        "id": "Komn4UgRlq4B",
        "colab_type": "code",
        "outputId": "b308666a-7f3e-40f6-bcef-69816fca441b",
        "colab": {
          "base_uri": "https://localhost:8080/",
          "height": 68
        }
      },
      "source": [
        "#Tuples\n",
        "Mobile=(\"Honor\",\"Mi\",\"Oppo\",\"vivo\",\"One Plus\")\n",
        "print(Mobile[4])\n",
        "\n",
        "def multiple_ret_params():\n",
        "  return 1,2,3\n",
        "x=multiple_ret_params()\n",
        "print(type(x))\n",
        "\n",
        "def func(*arg):\n",
        "  print(\"The argument is\",type(arg))\n",
        "  pass \n",
        "func(1,2,3)"
      ],
      "execution_count": 0,
      "outputs": [
        {
          "output_type": "stream",
          "text": [
            "One Plus\n",
            "<class 'tuple'>\n",
            "The argument is <class 'tuple'>\n"
          ],
          "name": "stdout"
        }
      ]
    },
    {
      "cell_type": "code",
      "metadata": {
        "id": "AcOA8vT5mpcg",
        "colab_type": "code",
        "outputId": "561d271e-603d-4f15-b0e5-99110bef2b45",
        "colab": {
          "base_uri": "https://localhost:8080/",
          "height": 51
        }
      },
      "source": [
        "#List sclice\n",
        "number=[1,2,3,4,5,6,7,8,9,0]\n",
        "print(number[2:4])\n",
        "print(number[3::2])"
      ],
      "execution_count": 0,
      "outputs": [
        {
          "output_type": "stream",
          "text": [
            "[3, 4]\n",
            "[4, 6, 8, 0]\n"
          ],
          "name": "stdout"
        }
      ]
    },
    {
      "cell_type": "code",
      "metadata": {
        "id": "RdpeJiy7ncVq",
        "colab_type": "code",
        "outputId": "830fc61c-0657-43d7-fbf8-db0e65c4ef93",
        "colab": {
          "base_uri": "https://localhost:8080/",
          "height": 34
        }
      },
      "source": [
        "#Formatting of String\n",
        "nums=[1,2,3]\n",
        "out=\"The Numbers are {},{},{}\".format(nums[0],nums[1],nums[2])\n",
        "print(out)"
      ],
      "execution_count": 0,
      "outputs": [
        {
          "output_type": "stream",
          "text": [
            "The Numbers are 1,2,3\n"
          ],
          "name": "stdout"
        }
      ]
    },
    {
      "cell_type": "code",
      "metadata": {
        "id": "n0r6ANZTsiCP",
        "colab_type": "code",
        "outputId": "50d1fd42-f4dd-4620-9868-e487b6e9f89a",
        "colab": {
          "base_uri": "https://localhost:8080/",
          "height": 68
        }
      },
      "source": [
        "class Pc:\n",
        "  #self is used to refer an object\n",
        "  def __init__(self,cpu,ram):\n",
        "    self.cpu=cpu\n",
        "    self.ram=ram\n",
        "    print(cpu+ram)\n",
        "  def specs(self):\n",
        "    motherboard=\"Asus B360\"\n",
        "    Processor=\"Intel i5 9th gen\"\n",
        "    Ram=\"16GB\"\n",
        "    Storage=\"2TB\"\n",
        "    print(motherboard+Processor+Ram+Storage)\n",
        "pc1=Pc(\"i9 9th gen\",\"32 GB\")\n",
        "print(Pc.specs(pc1))"
      ],
      "execution_count": 0,
      "outputs": [
        {
          "output_type": "stream",
          "text": [
            "i9 9th gen32 GB\n",
            "Asus B360Intel i5 9th gen16GB2TB\n",
            "None\n"
          ],
          "name": "stdout"
        }
      ]
    },
    {
      "cell_type": "code",
      "metadata": {
        "id": "OM7U8icg9tYT",
        "colab_type": "code",
        "outputId": "dd270a65-efbe-4d1b-b583-194f01f318f8",
        "colab": {
          "base_uri": "https://localhost:8080/",
          "height": 68
        }
      },
      "source": [
        "class test:\n",
        "  def __init__(self):\n",
        "    self.name=\"Mike\"\n",
        "    self.age=\"20\"\n",
        "  def updtae(self):\n",
        "    self.age=\"21\"\n",
        "  def compare(self,other):\n",
        "    if self.age==other.age:\n",
        "      return True\n",
        "    else:\n",
        "      return False\n",
        "  \n",
        "t1=test()\n",
        "t2=test()\n",
        "\n",
        "\n",
        "if t1.compare(t2):\n",
        "  print (\"They are same\")\n",
        "  \n",
        "print (t1.name)\n",
        "print (t2.age)\n",
        "  \n",
        "    \n",
        "    \n",
        "    "
      ],
      "execution_count": 0,
      "outputs": [
        {
          "output_type": "stream",
          "text": [
            "They are same\n",
            "Mike\n",
            "20\n"
          ],
          "name": "stdout"
        }
      ]
    },
    {
      "cell_type": "code",
      "metadata": {
        "id": "QGGZu3gdBUgc",
        "colab_type": "code",
        "outputId": "331fc22e-9247-4e43-8371-b1d55e6f2838",
        "colab": {
          "base_uri": "https://localhost:8080/",
          "height": 51
        }
      },
      "source": [
        "class car:\n",
        "  \n",
        "  wheels=4\n",
        "  \n",
        "  def __init__(self):\n",
        "    self.mil=10\n",
        "    self.speed=200\n",
        "    \n",
        "c1=car()\n",
        "c2=car()\n",
        "print(c1.mil , c1.speed , c1.wheels)\n",
        "print(c2.mil , c2.speed , c2.wheels)\n",
        "  "
      ],
      "execution_count": 0,
      "outputs": [
        {
          "output_type": "stream",
          "text": [
            "10 200 4\n",
            "10 200 4\n"
          ],
          "name": "stdout"
        }
      ]
    },
    {
      "cell_type": "code",
      "metadata": {
        "id": "d87A3H-KDNqz",
        "colab_type": "code",
        "colab": {
          "base_uri": "https://localhost:8080/",
          "height": 68
        },
        "outputId": "5c118519-fbe8-4c8e-b79f-610f157bae6a"
      },
      "source": [
        "class student:\n",
        "  school='XYZ'\n",
        "  def __init__(self,m1,m2,m3):\n",
        "    self.m1=m1\n",
        "    self.m2=m2\n",
        "    self.m3=m3\n",
        "  def avg(self):\n",
        "    return(self.m1+self.m2+self.m3)/3\n",
        "  def getM1(self):\n",
        "    return self.m1\n",
        "  @classmethod\n",
        "  def info(cls):\n",
        "    return cls.school\n",
        "    \n",
        "s1=student(30,20,15)\n",
        "s2=student(18,39,57)\n",
        "print(s1.avg())\n",
        "print(s1.getM1())\n",
        "print(student.info())"
      ],
      "execution_count": 4,
      "outputs": [
        {
          "output_type": "stream",
          "text": [
            "21.666666666666668\n",
            "30\n",
            "XYZ\n"
          ],
          "name": "stdout"
        }
      ]
    },
    {
      "cell_type": "code",
      "metadata": {
        "id": "ftf-8ezpGkUw",
        "colab_type": "code",
        "colab": {
          "base_uri": "https://localhost:8080/",
          "height": 51
        },
        "outputId": "506aa95d-bccf-4465-ac5a-ec8bb00018e6"
      },
      "source": [
        "class student:\n",
        "  def __init__(self,name,rollno):\n",
        "    self.name=name\n",
        "    self.rollno=rollno\n",
        "    self.lap=self.Laptop()\n",
        "    \n",
        "  def show(self):\n",
        "    print(self.name, self.rollno)\n",
        "    self.lap.show()\n",
        "    \n",
        "  class Laptop:\n",
        "    def __init__(self):\n",
        "      self.brand=\"HP\"\n",
        "      self.cpu=\"Rayzen 5\"\n",
        "      self.ram=16\n",
        "    def show(self):\n",
        "      print(self.brand, self.cpu, self.ram)\n",
        "    \n",
        "s1=student('Mike',1)\n",
        "s2=student('Jenny',2)\n",
        "s1.show()\n",
        "\n",
        "lap1=student.Laptop()"
      ],
      "execution_count": 12,
      "outputs": [
        {
          "output_type": "stream",
          "text": [
            "Mike 1\n",
            "HP Rayzen 5 16\n"
          ],
          "name": "stdout"
        }
      ]
    },
    {
      "cell_type": "code",
      "metadata": {
        "id": "b8A073u7JmiP",
        "colab_type": "code",
        "colab": {
          "base_uri": "https://localhost:8080/",
          "height": 85
        },
        "outputId": "0845e71e-d9f1-4a88-e249-a5a08de017dc"
      },
      "source": [
        "class A:\n",
        "  def feature1(self):\n",
        "    print(\"feature1 is working\")\n",
        "  def feature2(self):\n",
        "    print(\"feature2 is working\")\n",
        "class B():\n",
        "  def feature3(self):\n",
        "    print(\"feature3 is working\")\n",
        "  def feature4(self):\n",
        "    print(\"feature4 is working\")\n",
        "class C(A,B):\n",
        "  def feature5(self):\n",
        "    print(\"feature5 is working\")\n",
        "    \n",
        "a1=A()\n",
        "a1.feature1()\n",
        "a1.feature2()\n",
        "\n",
        "b1=B()\n",
        "b1.feature3()\n",
        "\n",
        "c1=C()\n",
        "c1.feature2()"
      ],
      "execution_count": 16,
      "outputs": [
        {
          "output_type": "stream",
          "text": [
            "feature1 is working\n",
            "feature2 is working\n",
            "feature3 is working\n",
            "feature2 is working\n"
          ],
          "name": "stdout"
        }
      ]
    },
    {
      "cell_type": "code",
      "metadata": {
        "id": "IouAbzu6LMKU",
        "colab_type": "code",
        "colab": {
          "base_uri": "https://localhost:8080/",
          "height": 34
        },
        "outputId": "8e89fe86-77ac-4dd8-82e8-088bda4ac9e0"
      },
      "source": [
        "class A:\n",
        "  def __init__(self):\n",
        "    print(\"This is constructor\")\n",
        "  def feature1(self):\n",
        "    print(\"feature1 is working\")\n",
        "  def feature2(self):\n",
        "    print(\"feature2 is working\")\n",
        "class B(A):\n",
        "  def feature3(self):\n",
        "    print(\"feature3 is working\")\n",
        "  def feature4(self):\n",
        "    print(\"feature4 is working\")\n",
        "a1=A()\n"
      ],
      "execution_count": 17,
      "outputs": [
        {
          "output_type": "stream",
          "text": [
            "This is constructor\n"
          ],
          "name": "stdout"
        }
      ]
    },
    {
      "cell_type": "code",
      "metadata": {
        "id": "gHui1EnANJ18",
        "colab_type": "code",
        "colab": {
          "base_uri": "https://localhost:8080/",
          "height": 85
        },
        "outputId": "20f61c06-e37f-4da8-ba3d-ecffaae460de"
      },
      "source": [
        "class PyCharm:\n",
        "  def execute(self):\n",
        "    print(\"compiling\")\n",
        "    print(\"Running\")\n",
        "    \n",
        "class myEditor:\n",
        "  def execute(self):\n",
        "    print(\"Spell check\")\n",
        "    print(\"Convention Check\")\n",
        "    print(\"compiling\")\n",
        "    print(\"Running\")\n",
        "    \n",
        "\n",
        "class Laptop:\n",
        "  def code(self,IDE):\n",
        "    IDE.execute()\n",
        "    \n",
        "    \n",
        "\n",
        "IDE=myEditor()\n",
        "lap1=Laptop()\n",
        "lap1.code(IDE)"
      ],
      "execution_count": 20,
      "outputs": [
        {
          "output_type": "stream",
          "text": [
            "Spell check\n",
            "Convention Check\n",
            "compiling\n",
            "Running\n"
          ],
          "name": "stdout"
        }
      ]
    },
    {
      "cell_type": "code",
      "metadata": {
        "id": "QTbLC2QPUpTx",
        "colab_type": "code",
        "colab": {
          "base_uri": "https://localhost:8080/",
          "height": 34
        },
        "outputId": "bf1d69b5-d7b7-44ef-e956-1b5b02c4bde4"
      },
      "source": [
        "#operator overloading\n",
        "\n",
        "class student:\n",
        "  def __init__(self,m1,m2):\n",
        "    self.m1=m1\n",
        "    self.m2=m1\n",
        "  def __add__(self,other):\n",
        "    m1=self.m1+other.m1\n",
        "    m2=self.m2+other.m2\n",
        "    s3=student(m1,m2)\n",
        "    return s3\n",
        "s1=student(50,60)\n",
        "s2=student(40,50)\n",
        "\n",
        "s3=s1+s2\n",
        "print(s3.m1)\n"
      ],
      "execution_count": 24,
      "outputs": [
        {
          "output_type": "stream",
          "text": [
            "90\n"
          ],
          "name": "stdout"
        }
      ]
    },
    {
      "cell_type": "code",
      "metadata": {
        "id": "OvWUD6rNXmRz",
        "colab_type": "code",
        "colab": {
          "base_uri": "https://localhost:8080/",
          "height": 34
        },
        "outputId": "3e80b7ef-61a7-4c63-ea57-e54a2e1fa2dd"
      },
      "source": [
        "#python doesn't support method overloading\n",
        "#but by using  NONE and putting some if else statement we can achieve that\n",
        "\n",
        "class student:\n",
        "  \n",
        "  def sum(self,a=None, b=None, c=None):\n",
        "    s=0\n",
        "    \n",
        "    if a!=None and b!=None and c!=None:\n",
        "      s=a+b+c\n",
        "    elif a!=None and b!=None:\n",
        "      s=a+b\n",
        "    else:\n",
        "      s=a\n",
        "    return s\n",
        "s1= student()\n",
        "print(s1.sum(10,20))"
      ],
      "execution_count": 25,
      "outputs": [
        {
          "output_type": "stream",
          "text": [
            "30\n"
          ],
          "name": "stdout"
        }
      ]
    },
    {
      "cell_type": "code",
      "metadata": {
        "id": "sL_vh2cOU1_R",
        "colab_type": "code",
        "colab": {}
      },
      "source": [
        ""
      ],
      "execution_count": 0,
      "outputs": []
    }
  ]
}